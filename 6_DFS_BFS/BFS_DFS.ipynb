{
 "cells": [
  {
   "cell_type": "markdown",
   "metadata": {},
   "source": [
    "### 그래프의 너비우선검색 구현"
   ]
  },
  {
   "cell_type": "code",
   "execution_count": 1,
   "metadata": {},
   "outputs": [
    {
     "name": "stdout",
     "output_type": "stream",
     "text": [
      "   0    1    1    1    0    0    0    0 \n",
      "   1    0    1    0    0    1    0    0 \n",
      "   1    1    0    1    1    1    1    0 \n",
      "   1    0    1    0    1    0    1    0 \n",
      "   0    0    1    1    0    0    1    1 \n",
      "   0    1    1    0    0    0    0    0 \n",
      "   0    0    1    1    1    0    0    0 \n",
      "   0    0    0    0    1    0    0    0 \n",
      "0\n",
      "1\n",
      "2\n",
      "3\n",
      "5\n",
      "4\n",
      "6\n",
      "7\n"
     ]
    }
   ],
   "source": [
    "import utility\n",
    "import queue\n",
    "e = {0 : [1, 2, 3], 1 : [2,5], 2 : [3, 4, 5, 6], 3 : [4,6], 4:[6, 7]}\n",
    "N = 8\n",
    "a = [[0 for j in range(0 , N)] for i in range(0, N)]\n",
    "for i in range(0, N - 1):\n",
    "    for j in range(i + 1, N):\n",
    "        if i in e:\n",
    "            if j in e[i]:\n",
    "                a[i][j] = 1\n",
    "                a[j][i] = 1\n",
    "                \n",
    "utility.printMatrix(a)\n",
    "visited = N * [0]\n",
    "\n",
    "def BFS(a, v):\n",
    "    q = queue.Queue()\n",
    "    visited[v] = 1\n",
    "    q.put(v)\n",
    "    while not q.empty():\n",
    "        x = q.get()\n",
    "        print(x)\n",
    "        for i in range(N):\n",
    "            if a[x][i] == 1 and visited[i] == 0:\n",
    "                q.put(i)\n",
    "                visited[i] = 1\n",
    "                \n",
    "\n",
    "                \n",
    "                \n",
    "BFS(a, 0)\n"
   ]
  },
  {
   "cell_type": "markdown",
   "metadata": {},
   "source": [
    "### 5-Queens Problem"
   ]
  },
  {
   "cell_type": "code",
   "execution_count": 8,
   "metadata": {},
   "outputs": [
    {
     "name": "stdout",
     "output_type": "stream",
     "text": [
      "[0, 2, 4, 6, 1, 3, 5]\n",
      "[0, 3, 6, 2, 5, 1, 4]\n",
      "[0, 4, 1, 5, 2, 6, 3]\n",
      "[0, 5, 3, 1, 6, 4, 2]\n",
      "[1, 3, 0, 6, 4, 2, 5]\n",
      "[1, 3, 5, 0, 2, 4, 6]\n",
      "[1, 4, 0, 3, 6, 2, 5]\n",
      "[1, 4, 2, 0, 6, 3, 5]\n",
      "[1, 4, 6, 3, 0, 2, 5]\n",
      "[1, 5, 2, 6, 3, 0, 4]\n",
      "[1, 6, 4, 2, 0, 5, 3]\n",
      "[2, 0, 5, 1, 4, 6, 3]\n",
      "[2, 0, 5, 3, 1, 6, 4]\n",
      "[2, 4, 6, 1, 3, 5, 0]\n",
      "[2, 5, 1, 4, 0, 3, 6]\n",
      "[2, 6, 1, 3, 5, 0, 4]\n",
      "[2, 6, 3, 0, 4, 1, 5]\n",
      "[3, 0, 2, 5, 1, 6, 4]\n",
      "[3, 0, 4, 1, 5, 2, 6]\n",
      "[3, 1, 6, 4, 2, 0, 5]\n",
      "[3, 5, 0, 2, 4, 6, 1]\n",
      "[3, 6, 2, 5, 1, 4, 0]\n",
      "[3, 6, 4, 1, 5, 0, 2]\n",
      "[4, 0, 3, 6, 2, 5, 1]\n",
      "[4, 0, 5, 3, 1, 6, 2]\n",
      "[4, 1, 5, 2, 6, 3, 0]\n",
      "[4, 2, 0, 5, 3, 1, 6]\n",
      "[4, 6, 1, 3, 5, 0, 2]\n",
      "[4, 6, 1, 5, 2, 0, 3]\n",
      "[5, 0, 2, 4, 6, 1, 3]\n",
      "[5, 1, 4, 0, 3, 6, 2]\n",
      "[5, 2, 0, 3, 6, 4, 1]\n",
      "[5, 2, 4, 6, 0, 3, 1]\n",
      "[5, 2, 6, 3, 0, 4, 1]\n",
      "[5, 3, 1, 6, 4, 2, 0]\n",
      "[5, 3, 6, 0, 2, 4, 1]\n",
      "[6, 1, 3, 5, 0, 2, 4]\n",
      "[6, 2, 5, 1, 4, 0, 3]\n",
      "[6, 3, 0, 4, 1, 5, 2]\n",
      "[6, 4, 2, 0, 5, 3, 1]\n"
     ]
    }
   ],
   "source": [
    "def promissing(i, col):\n",
    "    switch = True\n",
    "    k = 0\n",
    "    while k < i and switch:\n",
    "        if col[i] == col[k] or abs(col[i] - col[k]) == i - k:\n",
    "            switch = False\n",
    "        k += 1\n",
    "    \n",
    "    return switch\n",
    "    \n",
    "    \n",
    "    \n",
    "def queens(n, i, col):\n",
    "    if promissing(i, col):\n",
    "        if i == n - 1:\n",
    "            print(col)\n",
    "            \n",
    "        else:\n",
    "            for j in range(n):\n",
    "                col[i + 1] = j\n",
    "                queens(n, i+1, col)\n",
    "    \n",
    "N = 7\n",
    "col = N * [0]\n",
    "queens(N, -1, col)"
   ]
  },
  {
   "cell_type": "code",
   "execution_count": null,
   "metadata": {},
   "outputs": [],
   "source": []
  }
 ],
 "metadata": {
  "kernelspec": {
   "display_name": "Python 3",
   "language": "python",
   "name": "python3"
  },
  "language_info": {
   "codemirror_mode": {
    "name": "ipython",
    "version": 3
   },
   "file_extension": ".py",
   "mimetype": "text/x-python",
   "name": "python",
   "nbconvert_exporter": "python",
   "pygments_lexer": "ipython3",
   "version": "3.8.3"
  }
 },
 "nbformat": 4,
 "nbformat_minor": 4
}
