{
 "cells": [
  {
   "cell_type": "markdown",
   "metadata": {},
   "source": [
    "## 이항 계수 구하기 "
   ]
  },
  {
   "cell_type": "code",
   "execution_count": 1,
   "metadata": {},
   "outputs": [
    {
     "name": "stdout",
     "output_type": "stream",
     "text": [
      "252 252\n"
     ]
    }
   ],
   "source": [
    "# 재귀적 방법 구현\n",
    "\n",
    "def bin(n, k):\n",
    "    if k == 0 or n == k:\n",
    "        return 1\n",
    "    else :\n",
    "        return bin(n-1, k-1) + bin(n-1, k)\n",
    "\n",
    "# 배열을 이용한 구현\n",
    "def bin2(n, k): \n",
    "    B = [[0] * (k+1) for _ in range(n+1)]\n",
    "    \n",
    "    for i in range(0, n+1):\n",
    "        for j in range(0, min(i, k)+1):\n",
    "            if j == 0 or j == i :\n",
    "                B[i][j] = 1\n",
    "            else :\n",
    "                B[i][j] = B[i-1][j-1] + B[i-1][j]\n",
    "\n",
    "    return B[n][k]\n",
    "\n",
    "print(bin(10, 5), bin2(10, 5))\n"
   ]
  },
  {
   "cell_type": "markdown",
   "metadata": {},
   "source": [
    "## Floyd Alogirthm\n"
   ]
  },
  {
   "cell_type": "code",
   "execution_count": 22,
   "metadata": {},
   "outputs": [
    {
     "name": "stdout",
     "output_type": "stream",
     "text": [
      "0 1 1000 1 5 \n",
      "9 0 3 2 1000 \n",
      "1000 1000 0 4 1000 \n",
      "1000 1000 2 0 3 \n",
      "3 1000 1000 1000 0 \n",
      "\n",
      "0 1 3 1 4 \n",
      "8 0 3 2 5 \n",
      "10 11 0 4 7 \n",
      "6 7 2 0 3 \n",
      "3 4 6 4 0 \n",
      "\n",
      "0 0 4 0 4 \n",
      "5 0 0 0 4 \n",
      "5 5 0 0 4 \n",
      "5 5 0 0 0 \n",
      "0 1 4 1 0 \n",
      "\n",
      "v5 v1 v4 v3 "
     ]
    }
   ],
   "source": [
    "inf = 1000\n",
    "def printMatrix(d):\n",
    "    n = len(d[0])\n",
    "    for i in range(0,n):\n",
    "        for j in range(0,n):\n",
    "            print(d[i][j], end=\" \")\n",
    "        \n",
    "        print()\n",
    "    \n",
    "def Floyd(g,n):\n",
    "    D = g\n",
    "    P = [[0] * n for _ in range(n)]\n",
    "    for k in range(0,n):\n",
    "        for i in range(0,n):\n",
    "            for j in range(0,n):\n",
    "                if D[i][k]+D[k][j] < D[i][j]:\n",
    "                    P[i][j] = k+1\n",
    "                    D[i][j] = D[i][k]+D[k][j]\n",
    "                    \n",
    "    return D, P\n",
    "\n",
    "def _path(p, q, r):\n",
    "    if p[q][r] != 0 :\n",
    "        _path(p, q, p[q][r]-1)\n",
    "        print(f\"v{p[q][r]}\", end=\" \")\n",
    "        _path(p, p[q][r]-1, r)\n",
    "\n",
    "\n",
    "def path(p, q, r):\n",
    "    print(\"v%d\"% q, end=\" \")\n",
    "    _path(p, q - 1, r - 1)\n",
    "    print(\"v%d\"% r, end=\" \")\n",
    "        \n",
    "g= [[0,1,inf,1,5],[9,0,3,2,inf],[inf,inf,0,4,inf],[inf,inf,2,0,3],[3,inf,inf,inf,0]]\n",
    "printMatrix(g)\n",
    "d,p = Floyd(g,5) \n",
    "print()\n",
    "printMatrix(d)\n",
    "print()\n",
    "printMatrix(p)\n",
    "print()\n",
    "path(p,5,3)"
   ]
  },
  {
   "cell_type": "code",
   "execution_count": null,
   "metadata": {},
   "outputs": [],
   "source": []
  }
 ],
 "metadata": {
  "kernelspec": {
   "display_name": "Python 3",
   "language": "python",
   "name": "python3"
  },
  "language_info": {
   "codemirror_mode": {
    "name": "ipython",
    "version": 3
   },
   "file_extension": ".py",
   "mimetype": "text/x-python",
   "name": "python",
   "nbconvert_exporter": "python",
   "pygments_lexer": "ipython3",
   "version": "3.8.3"
  }
 },
 "nbformat": 4,
 "nbformat_minor": 4
}
