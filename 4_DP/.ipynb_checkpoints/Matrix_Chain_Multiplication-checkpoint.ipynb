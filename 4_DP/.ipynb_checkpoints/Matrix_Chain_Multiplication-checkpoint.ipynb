{
 "cells": [
  {
   "cell_type": "markdown",
   "metadata": {},
   "source": [
    "## Matrix Chain Multiplication"
   ]
  },
  {
   "cell_type": "code",
   "execution_count": 1,
   "metadata": {},
   "outputs": [
    {
     "name": "stdout",
     "output_type": "stream",
     "text": [
      "   0    0    0    0    0    0    0 \n",
      "   0    0   30   64  132  226  348 \n",
      "   0    0    0   24   72  156  268 \n",
      "   0    0    0    0   72  198  366 \n",
      "   0    0    0    0    0  168  392 \n",
      "   0    0    0    0    0    0  336 \n",
      "   0    0    0    0    0    0    0 \n",
      "\n",
      "   0    0    0    0    0    0    0 \n",
      "   0    0    1    1    1    1    1 \n",
      "   0    0    0    2    3    4    5 \n",
      "   0    0    0    0    3    4    5 \n",
      "   0    0    0    0    0    4    5 \n",
      "   0    0    0    0    0    0    5 \n",
      "   0    0    0    0    0    0    0 \n",
      "\n",
      "(A1((((A2A3)A4)A5)A6))"
     ]
    }
   ],
   "source": [
    "import utility\n",
    "import sys\n",
    "\n",
    "d=[5,2,3,4,6,7,8]\n",
    "n = len(d)\n",
    "\n",
    "M = [[0 for j in range(n)] for i in range(n)]\n",
    "P = [[0 for j in range(n)] for i in range(n)]\n",
    "\n",
    "for diag in range(1, n):\n",
    "    for i in range(1, n-diag):\n",
    "        j = i+diag\n",
    "        M[i][j] = sys.maxsize\n",
    "        for k in range(i,j):\n",
    "            if(M[i][j] > M[i][k] + M[k+1][j] + d[i-1]*d[k]*d[j]):\n",
    "                M[i][j] = M[i][k] + M[k+1][j] + d[i-1]*d[k]*d[j]\n",
    "                P[i][j] = k\n",
    "    \n",
    "\n",
    "def order(p,i,j):\n",
    "    if(i==j):\n",
    "        print(\"A\",i,sep='', end='')\n",
    "    else:\n",
    "        k = p[i][j]\n",
    "        print(\"(\", end='')\n",
    "        order(p,i,k)\n",
    "        order(p,k+1,j)\n",
    "        print(\")\", end='')\n",
    "            \n",
    "\n",
    "            \n",
    "utility.printMatrix(M)\n",
    "print()\n",
    "utility.printMatrix(P)\n",
    "print()\n",
    "order(P,1,6)"
   ]
  },
  {
   "cell_type": "code",
   "execution_count": null,
   "metadata": {},
   "outputs": [],
   "source": []
  }
 ],
 "metadata": {
  "kernelspec": {
   "display_name": "Python 3",
   "language": "python",
   "name": "python3"
  },
  "language_info": {
   "codemirror_mode": {
    "name": "ipython",
    "version": 3
   },
   "file_extension": ".py",
   "mimetype": "text/x-python",
   "name": "python",
   "nbconvert_exporter": "python",
   "pygments_lexer": "ipython3",
   "version": "3.8.3"
  }
 },
 "nbformat": 4,
 "nbformat_minor": 4
}
