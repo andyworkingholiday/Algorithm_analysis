{
 "cells": [
  {
   "cell_type": "markdown",
   "metadata": {},
   "source": [
    "## Optimal Search Tree\n"
   ]
  },
  {
   "cell_type": "code",
   "execution_count": 1,
   "metadata": {},
   "outputs": [
    {
     "name": "stdout",
     "output_type": "stream",
     "text": [
      " 0.00  0.00  0.00  0.00  0.00  0.00 \n",
      " 0.00  0.30  0.50  1.00  1.90  0.00 \n",
      " 0.00  0.00  0.10  0.40  1.10  0.00 \n",
      " 0.00  0.00  0.00  0.20  0.80  0.00 \n",
      " 0.00  0.00  0.00  0.00  0.40  0.00 \n",
      " 0.00  0.00  0.00  0.00  0.00  0.00 \n",
      "\n",
      "   0    0    0    0    0    0 \n",
      "   0    1    1    1    3    0 \n",
      "   0    0    2    3    4    0 \n",
      "   0    0    0    3    4    0 \n",
      "   0    0    0    0    4    0 \n",
      "   0    0    0    0    0    0 \n",
      "\n",
      "A\n",
      "B\n",
      "C\n",
      "D\n",
      "\n",
      "C\n",
      "A\n",
      "B\n",
      "D\n"
     ]
    }
   ],
   "source": [
    "import utility\n",
    "import sys\n",
    "\n",
    "class Node:\n",
    "    def __init__(self, data):\n",
    "        self.l_child=None\n",
    "        self.r_child=None\n",
    "        self.data = data\n",
    "        \n",
    "def tree(key, r, i, j):\n",
    "    k = r[i][j]\n",
    "    if(k==0):\n",
    "        return\n",
    "    else:\n",
    "        p=Node(key[k])\n",
    "        p.l_child=tree(key,r,i,k-1)\n",
    "        p.r_child=tree(key,r,k+1,j)\n",
    "        return p    \n",
    "\n",
    "key = [\" \", \"A\", \"B\", \"C\", \"D\"]\n",
    "p=[0, 0.3, 0.1, 0.2, 0.4]\n",
    "n=len(p)-1\n",
    "\n",
    "A=[[0 for j in range(0,n+2)] for i in range(0, n+2)]\n",
    "R=[[0 for j in range(0,n+2)] for i in range(0, n+2)]\n",
    "\n",
    "for i in range(1,n+1):\n",
    "    A[i][i-1]=0\n",
    "    A[i][i] = p[i]\n",
    "    R[i][i] = i\n",
    "    R[i][i-1] = 0\n",
    "    \n",
    "A[n+1][n] = 0\n",
    "R[n+1][n] = 0\n",
    "\n",
    "for diag in range(1, n):\n",
    "    for i in range(1, n-diag+1):\n",
    "        j = i+diag\n",
    "        A[i][j] = sys.maxsize\n",
    "        for k in range(i,j+1):\n",
    "            if A[i][j] > A[i][k-1] + A[k+1][j]:\n",
    "                A[i][j] = A[i][k-1] + A[k+1][j]\n",
    "                R[i][j] = k\n",
    "        \n",
    "        for s in range(i,j+1):\n",
    "            A[i][j] += p[s]\n",
    "\n",
    "utility.printMatrixF(A)\n",
    "print()\n",
    "utility.printMatrix(R)\n",
    "print()\n",
    "\n",
    "root = tree(key,R,1,n)\n",
    "utility.print_inOrder(root)\n",
    "print()\n",
    "utility.print_preOrder(root)"
   ]
  },
  {
   "cell_type": "code",
   "execution_count": null,
   "metadata": {},
   "outputs": [],
   "source": []
  }
 ],
 "metadata": {
  "kernelspec": {
   "display_name": "Python 3",
   "language": "python",
   "name": "python3"
  },
  "language_info": {
   "codemirror_mode": {
    "name": "ipython",
    "version": 3
   },
   "file_extension": ".py",
   "mimetype": "text/x-python",
   "name": "python",
   "nbconvert_exporter": "python",
   "pygments_lexer": "ipython3",
   "version": "3.8.3"
  }
 },
 "nbformat": 4,
 "nbformat_minor": 4
}
