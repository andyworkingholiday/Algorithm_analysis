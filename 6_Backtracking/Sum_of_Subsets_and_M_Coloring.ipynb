{
 "cells": [
  {
   "cell_type": "markdown",
   "metadata": {},
   "source": [
    "## 부분집합의 합 구하기"
   ]
  },
  {
   "cell_type": "code",
   "execution_count": 9,
   "metadata": {},
   "outputs": [
    {
     "name": "stdout",
     "output_type": "stream",
     "text": [
      "items =  [1, 4, 2, 6] W =  6\n",
      "sol [0, 1, 1, 0]\n",
      "sol [0, 0, 0, 1]\n"
     ]
    }
   ],
   "source": [
    "N = 4\n",
    "w = [1, 4, 2, 6]\n",
    "W = 6\n",
    "include = N * [0]\n",
    "total = 0\n",
    "\n",
    "def promissing(i, weight, total):\n",
    "    global W, w, include\n",
    "    return (weight + total >= W) and (weight == W or weight + w[i + 1] <= W)\n",
    "\n",
    "def s_s(i, weight, total):\n",
    "    global W, w, include\n",
    "    if promissing(i, weight, total):\n",
    "        if weight == W:\n",
    "            print(\"sol\", include)\n",
    "        else:\n",
    "            include[i + 1] = 1\n",
    "            s_s(i + 1, weight + w[i + 1], total - w[i + 1])\n",
    "            include[i + 1] = 0\n",
    "            s_s(i + 1, weight, total - w[i + 1])\n",
    "\n",
    "\n",
    "print(\"items = \", w, \"W = \", W)\n",
    "for k in w:\n",
    "    total += k\n",
    "    \n",
    "s_s(-1, 0, total)"
   ]
  },
  {
   "cell_type": "markdown",
   "metadata": {},
   "source": [
    "## M-Coloring"
   ]
  },
  {
   "cell_type": "code",
   "execution_count": 19,
   "metadata": {},
   "outputs": [
    {
     "name": "stdout",
     "output_type": "stream",
     "text": [
      "[1, 2, 3, 2]\n",
      "[1, 3, 2, 3]\n",
      "[2, 1, 3, 1]\n",
      "[2, 3, 1, 3]\n",
      "[3, 1, 2, 1]\n",
      "[3, 2, 1, 2]\n"
     ]
    }
   ],
   "source": [
    "N = 4\n",
    "W = [[0, 1, 1, 1], [1, 0, 1, 0], [1, 1, 0, 1], [1, 0, 1, 0]]\n",
    "vcolor = N * [0]\n",
    "M = 3\n",
    "def m_coloring(i):\n",
    "    global vcolor, N, M\n",
    "    \n",
    "    if promissing(i):\n",
    "        if i == N - 1:\n",
    "            print(vcolor)\n",
    "        else:\n",
    "            for color in range(M):\n",
    "                vcolor[i + 1] = color + 1\n",
    "                m_coloring(i + 1)\n",
    "    \n",
    "def promissing(i):\n",
    "    global vcolor, W\n",
    "    flag = True\n",
    "    j = 0\n",
    "    while j < i and flag:\n",
    "        if W[i][j] and vcolor[i] == vcolor[j]:\n",
    "            flag = False\n",
    "        j += 1\n",
    "        \n",
    "    return flag\n",
    "    \n",
    "m_coloring(-1)"
   ]
  },
  {
   "cell_type": "code",
   "execution_count": null,
   "metadata": {},
   "outputs": [],
   "source": []
  }
 ],
 "metadata": {
  "kernelspec": {
   "display_name": "Python 3",
   "language": "python",
   "name": "python3"
  },
  "language_info": {
   "codemirror_mode": {
    "name": "ipython",
    "version": 3
   },
   "file_extension": ".py",
   "mimetype": "text/x-python",
   "name": "python",
   "nbconvert_exporter": "python",
   "pygments_lexer": "ipython3",
   "version": "3.8.3"
  }
 },
 "nbformat": 4,
 "nbformat_minor": 4
}
