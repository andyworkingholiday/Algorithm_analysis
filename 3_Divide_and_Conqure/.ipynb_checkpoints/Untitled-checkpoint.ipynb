{
 "cells": [
  {
   "cell_type": "markdown",
   "metadata": {},
   "source": [
    "## QuickSort"
   ]
  },
  {
   "cell_type": "code",
   "execution_count": 11,
   "metadata": {},
   "outputs": [
    {
     "name": "stdout",
     "output_type": "stream",
     "text": [
      "[2, 3, 4, 5, 8, 9, 10, 14]\n"
     ]
    }
   ],
   "source": [
    "def quicksort(S, low, high):\n",
    "    if high <= low:\n",
    "        return\n",
    "    pivot = partition(S, low, high)\n",
    "    quicksort(S, low, pivot -1)\n",
    "    quicksort(S, pivot + 1, high)\n",
    "    \n",
    "def partition(S, low, high):\n",
    "    pivot = S[low]\n",
    "    j = low\n",
    "    for i in range(low+1, high+1):\n",
    "        if S[i] < pivot:\n",
    "            j+=1\n",
    "            S[i], S[j] = S[j], S[i]\n",
    "    \n",
    "    #pivot point 설정안하고 j값 return하면 그게 pivot point\n",
    "    S[low], S[j] = S[j], S[low]\n",
    "    return j\n",
    "\n",
    "s = [3,5,2,9,10,14,4,8]\n",
    "quicksort(s, 0, 7)\n",
    "print(s)"
   ]
  },
  {
   "cell_type": "markdown",
   "metadata": {},
   "source": [
    "## Strassen 행렬 곱"
   ]
  },
  {
   "cell_type": "code",
   "execution_count": 31,
   "metadata": {},
   "outputs": [
    {
     "name": "stdout",
     "output_type": "stream",
     "text": [
      "[[ 2 15 12  2]\n",
      " [ 1 10  4  6]\n",
      " [ 2 12  8  2]\n",
      " [ 2  8  0  8]] \n",
      "\n",
      "[[ 2 15 12  2]\n",
      " [ 1 10  4  6]\n",
      " [ 2 12  8  2]\n",
      " [ 2  8  0  8]] \n",
      "\n",
      "It's Same!\n"
     ]
    }
   ],
   "source": [
    "import numpy as np\n",
    "threshold = 2\n",
    "\n",
    "def strassen(n, A, B, C):\n",
    "    if n <= threshold:\n",
    "        C = np.array(A) @ np.array(B)\n",
    "        return C\n",
    "    \n",
    "    A11 = np.array([[A[rows][cols] for cols in range(n//2)] for rows in range(n//2)])\n",
    "    A12 = np.array([[A[rows][cols] for cols in range(n//2, n)] for rows in range(n//2)])\n",
    "    A21 = np.array([[A[rows][cols] for cols in range(n//2)] for rows in range(n//2, n)])\n",
    "    A22 = np.array([[A[rows][cols] for cols in range(n//2, n)] for rows in range(n//2, n)])\n",
    "    \n",
    "    B11 = np.array([[B[rows][cols] for cols in range(n//2)] for rows in range(n//2)])\n",
    "    B12 = np.array([[B[rows][cols] for cols in range(n//2, n)] for rows in range(n//2)])\n",
    "    B21 = np.array([[B[rows][cols] for cols in range(n//2)] for rows in range(n//2, n)])\n",
    "    B22 = np.array([[B[rows][cols] for cols in range(n//2, n)] for rows in range(n//2, n)])\n",
    "    \n",
    "    M1 = M2 = M3 = M4 = M5 = M6 = M7 = np.array([])\n",
    "    \n",
    "    M1 = strassen(int(n/2), (A11 + A22), (B11 + B22), M1)\n",
    "    M2 = strassen(int(n/2), (A21 + A22), B11, M2)\n",
    "    M3 = strassen(int(n/2), A11, (B12 - B22), M3)\n",
    "    M4 = strassen(int(n/2), A22, (B21 - B11), M4)\n",
    "    M5 = strassen(int(n/2), (A11 + A12), B22, M5)\n",
    "    M6 = strassen(int(n/2), (A21 - A11), (B11 + B12), M6)\n",
    "    M7 = strassen(int(n/2), (A12 - A22), (B21 + B22), M7)\n",
    "    \n",
    "    C = np.vstack([np.hstack([M1+M4-M5+M7, M3+M5]), np.hstack([M2+M4, M1+M3-M2+M6])])\n",
    "    return C\n",
    "    \n",
    "N = 4\n",
    "A = [[1,2,0,2], [3,1,0,0], [0,1,1,2], [2,0,2,0]]\n",
    "B = [[0,3,0,2], [1,1,4,0], [1,1,0,2], [0,5,2,0]]\n",
    "\n",
    "Simple_Matrix = np.array(A) @ np.array(B)\n",
    "Strassen_Matrix = [[0 for cols in range(N)] for rows in range(N)]\n",
    "\n",
    "Strassen_Matrix = strassen(N, A, B, Strassen_Matrix)\n",
    "\n",
    "print(Simple_Matrix,\"\\n\")\n",
    "print(Strassen_Matrix,\"\\n\")\n",
    "\n",
    "flag = 1\n",
    "for i in range(N):\n",
    "    for j in range(N):\n",
    "        if Simple_Matrix[i][j] != Strassen_Matrix[i][j]:\n",
    "            flag = 0\n",
    "            break\n",
    "            \n",
    "if flag: \n",
    "    print(\"It's Same!\")\n",
    "else:\n",
    "    print(\"It's Not Same!\")\n"
   ]
  },
  {
   "cell_type": "code",
   "execution_count": null,
   "metadata": {},
   "outputs": [],
   "source": []
  }
 ],
 "metadata": {
  "kernelspec": {
   "display_name": "Python 3",
   "language": "python",
   "name": "python3"
  },
  "language_info": {
   "codemirror_mode": {
    "name": "ipython",
    "version": 3
   },
   "file_extension": ".py",
   "mimetype": "text/x-python",
   "name": "python",
   "nbconvert_exporter": "python",
   "pygments_lexer": "ipython3",
   "version": "3.8.3"
  }
 },
 "nbformat": 4,
 "nbformat_minor": 4
}
