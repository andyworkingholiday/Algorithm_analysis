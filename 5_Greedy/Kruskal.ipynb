{
 "cells": [
  {
   "cell_type": "markdown",
   "metadata": {},
   "source": [
    "## Kruskal Algorithm"
   ]
  },
  {
   "cell_type": "code",
   "execution_count": 51,
   "metadata": {},
   "outputs": [
    {
     "name": "stdout",
     "output_type": "stream",
     "text": [
      "[(4, 'C', 'D'), (3, 'B', 'C'), (2, 'C', 'E'), (1, 'A', 'B')]\n"
     ]
    }
   ],
   "source": [
    "parent = dict()\n",
    "rank = dict()\n",
    "\n",
    "\n",
    "def find(v):\n",
    "    if parent[v] != v:\n",
    "        parent[v] = find(parent[v])\n",
    "    return parent[v]\n",
    "\n",
    "\n",
    "def union(r1, r2):\n",
    "    \n",
    "    if rank[r1] > rank[r2]:\n",
    "        parent[r2] = r1\n",
    "    else:\n",
    "        parent[r1] = r2\n",
    "        if rank[r1] == rank[r2]:\n",
    "            rank[r2] += 1\n",
    "    \n",
    "    \n",
    "def make_single_set(v):\n",
    "    parent[v] = v\n",
    "    rank[v] = 0\n",
    "\n",
    "def kruskal(graph):\n",
    "    mst = list()\n",
    "    \n",
    "    for node in graph['vertices']:\n",
    "        make_single_set(node)\n",
    "    \n",
    "    edges = graph['edges']\n",
    "    sorted(edges)\n",
    "\n",
    "    for edge in edges:\n",
    "        weight, v, u = edge\n",
    "        if find(v) != find(u):\n",
    "            r1 = find(v)\n",
    "            r2 = find(u)\n",
    "            union(v, u)\n",
    "            mst.append(edge)\n",
    "    \n",
    "    return mst\n",
    "\n",
    "\n",
    "graph = {\n",
    "    'vertices': ['A', 'B', 'C', 'D', 'E'],\n",
    "    'edges': set([\n",
    "        (1, 'A', 'B'),\n",
    "        (3, 'A', 'C'),\n",
    "        (3, 'B', 'C'),\n",
    "        (6, 'B', 'D'),\n",
    "        (4, 'C', 'D'),\n",
    "        (2, 'C', 'E'),\n",
    "        (5, 'D', 'E'),\n",
    "        ])\n",
    "    }\n",
    "\n",
    "mst = kruskal(graph)\n",
    "print(mst)"
   ]
  }
 ],
 "metadata": {
  "kernelspec": {
   "display_name": "Python 3",
   "language": "python",
   "name": "python3"
  },
  "language_info": {
   "codemirror_mode": {
    "name": "ipython",
    "version": 3
   },
   "file_extension": ".py",
   "mimetype": "text/x-python",
   "name": "python",
   "nbconvert_exporter": "python",
   "pygments_lexer": "ipython3",
   "version": "3.8.3"
  }
 },
 "nbformat": 4,
 "nbformat_minor": 4
}
