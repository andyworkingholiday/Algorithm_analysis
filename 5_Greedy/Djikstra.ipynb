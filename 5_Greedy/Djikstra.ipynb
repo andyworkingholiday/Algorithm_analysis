{
 "cells": [
  {
   "cell_type": "markdown",
   "metadata": {},
   "source": [
    "## Djikstra Algorithms"
   ]
  },
  {
   "cell_type": "code",
   "execution_count": 2,
   "metadata": {},
   "outputs": [],
   "source": [
    "inf = 1000\n",
    "w = [[0,7,4,6,1], [inf, 0, inf, inf, inf], [inf, 2, 0, 5, inf],\n",
    "    [inf,3,inf,0,inf], [inf,inf,inf,1,0]]\n",
    "\n",
    "n = 5\n",
    "f = set()\n",
    "touch = n * [0]\n",
    "length = n * [0]\n",
    "\n"
   ]
  },
  {
   "cell_type": "code",
   "execution_count": null,
   "metadata": {},
   "outputs": [],
   "source": []
  }
 ],
 "metadata": {
  "kernelspec": {
   "display_name": "Python 3",
   "language": "python",
   "name": "python3"
  },
  "language_info": {
   "codemirror_mode": {
    "name": "ipython",
    "version": 3
   },
   "file_extension": ".py",
   "mimetype": "text/x-python",
   "name": "python",
   "nbconvert_exporter": "python",
   "pygments_lexer": "ipython3",
   "version": "3.8.3"
  }
 },
 "nbformat": 4,
 "nbformat_minor": 4
}
