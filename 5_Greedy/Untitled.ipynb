{
 "cells": [
  {
   "cell_type": "markdown",
   "metadata": {},
   "source": [
    "## Kruskal Algorithm"
   ]
  },
  {
   "cell_type": "code",
   "execution_count": null,
   "metadata": {},
   "outputs": [],
   "source": [
    "parent = dict()\n",
    "rank = dict()\n",
    "\n",
    "\n",
    "def find(v):\n",
    "    if parent[v] != v:\n",
    "        parent[v] = find(parent[v])\n",
    "    return parent[v]\n",
    "\n",
    "def make_single_set(v):\n",
    "    parent[v] = v\n",
    "    rank[v] = 0\n",
    "\n",
    "def union(r1, r2):\n",
    "    root1 = find(node_v)\n",
    "    root2 = find(node_u)\n",
    "    \n",
    "    # union-by-rank 기법\n",
    "    if rank[r1] > rank[r2]:\n",
    "        parent[root2] = root1\n",
    "    else:\n",
    "        parent[root1] = root2\n",
    "        if rank[root1] == rank[root2]:\n",
    "            rank[root2] += 1\n",
    "\n",
    "def kruskal(graph):\n",
    "    mst = list()\n",
    "    \n",
    "    # 1. 초기화\n",
    "    for node in graph['vertices']:\n",
    "        make_set(node)\n",
    "    \n",
    "    # 2. 간선 weight 기반 sorting\n",
    "    edges = graph['edges']\n",
    "    edges.sort()\n",
    "    \n",
    "    # 3. 간선 연결 (사이클 없는)\n",
    "    for edge in edges:\n",
    "        weight, node_v, node_u = edge\n",
    "        if find(node_v) != find(node_u):\n",
    "            union(node_v, node_u)\n",
    "            mst.append(edge)\n",
    "    \n",
    "    return mst"
   ]
  }
 ],
 "metadata": {
  "kernelspec": {
   "display_name": "Python 3",
   "language": "python",
   "name": "python3"
  },
  "language_info": {
   "codemirror_mode": {
    "name": "ipython",
    "version": 3
   },
   "file_extension": ".py",
   "mimetype": "text/x-python",
   "name": "python",
   "nbconvert_exporter": "python",
   "pygments_lexer": "ipython3",
   "version": "3.8.3"
  }
 },
 "nbformat": 4,
 "nbformat_minor": 4
}
