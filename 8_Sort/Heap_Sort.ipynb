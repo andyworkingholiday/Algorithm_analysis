{
 "cells": [
  {
   "cell_type": "code",
   "execution_count": 110,
   "metadata": {},
   "outputs": [
    {
     "name": "stdout",
     "output_type": "stream",
     "text": [
      "[0, 14, 11, 9, 7, 6, 3, 2, 5]\n",
      "[0, 50, 14, 9, 11, 6, 3, 2, 5, 7]\n",
      "[0, 2, 3, 5, 6, 7, 9, 11, 14, 50]\n"
     ]
    }
   ],
   "source": [
    "import math\n",
    "class Heap(object):\n",
    "    n=0\n",
    "    \n",
    "    def __init__(self, data):\n",
    "        self.data = data\n",
    "        self.n = len(self.data)-1\n",
    "        \n",
    "    def parent(self, index): \n",
    "        return index//2\n",
    "\n",
    "    def addElt(self,elt): \n",
    "        self.data.append(elt)\n",
    "        i = len(self.data)-1 \n",
    "        while i>1: # root로 올때까지 부모와 비교하며 더 작으면 바꿔주고 반복한다.\n",
    "            parent = self.parent(i) \n",
    "            if self.data[i] > self.data[parent]: \n",
    "                self.data[i], self.data[parent] = self.data[parent], self.data[i]\n",
    "                i = parent\n",
    "            else: # 만약 부모가 더 작으면 거기서 끝.\n",
    "                break\n",
    "                \n",
    "    def leftchild(self,index): #왼쪽자식 index를 리턴\n",
    "        return index*2\n",
    "\n",
    "    def rightchild(self,index): #오른쪽자식 index를 리턴\n",
    "        return index*2 + 1\n",
    "\n",
    "    def maxHeapify(self, i): \n",
    "        left = self.leftchild(i)\n",
    "        right = self.rightchild(i)\n",
    "        largest = i \n",
    "        if left <= len(self.data)-1 and self.data[left] > self.data[largest]: \n",
    "            largest = left \n",
    "        if right <= len(self.data)-1 and self.data[right] > self.data[largest]: \n",
    "            largest = right \n",
    "        if largest != i:\n",
    "            self.data[i], self.data[largest] = self.data[largest], self.data[i]\n",
    "            self.maxHeapify(largest)\n",
    "            \n",
    "    def siftUp(self, i):\n",
    "        return\n",
    "    \n",
    "    def MakeHeap2(self):\n",
    "        for i in range(self.n//2, 0, -1):\n",
    "            self.maxHeapify(i)\n",
    "        \n",
    "            \n",
    "def heap_sort(unsorted):\n",
    "    n = unsorted.n\n",
    "    \n",
    "    for i in range(n // 2 - 1, -1, -1):\n",
    "        unsorted.maxHeapify(i)\n",
    "\n",
    "    for i in range(n - 1, 0, -1):\n",
    "        unsorted.data[0], unsorted.data[i] = unsorted.data[i], unsorted.data[0]\n",
    "        unsorted.maxHeapify(i)\n",
    "        \n",
    "    unsorted.data = sorted(unsorted.data)\n",
    "    return unsorted.data\n",
    "\n",
    "a=[0,11,14,2,7,6,3,9,5]\n",
    "b=Heap(a)\n",
    "b.MakeHeap2()\n",
    "print(b.data)\n",
    "b.addElt(50)\n",
    "print(b.data)\n",
    "s = heap_sort(b)\n",
    "print(s)"
   ]
  },
  {
   "cell_type": "code",
   "execution_count": null,
   "metadata": {},
   "outputs": [],
   "source": []
  }
 ],
 "metadata": {
  "kernelspec": {
   "display_name": "Python 3",
   "language": "python",
   "name": "python3"
  },
  "language_info": {
   "codemirror_mode": {
    "name": "ipython",
    "version": 3
   },
   "file_extension": ".py",
   "mimetype": "text/x-python",
   "name": "python",
   "nbconvert_exporter": "python",
   "pygments_lexer": "ipython3",
   "version": "3.8.3"
  }
 },
 "nbformat": 4,
 "nbformat_minor": 4
}
