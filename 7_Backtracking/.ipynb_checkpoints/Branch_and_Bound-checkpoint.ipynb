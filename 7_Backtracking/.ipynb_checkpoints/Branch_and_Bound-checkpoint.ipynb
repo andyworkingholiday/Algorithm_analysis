{
 "cells": [
  {
   "cell_type": "code",
   "execution_count": 1,
   "metadata": {},
   "outputs": [
    {
     "name": "stdout",
     "output_type": "stream",
     "text": [
      "[0, 0, 0, 0]\n"
     ]
    }
   ],
   "source": [
    "#어려워서 그만 문제를 해결하지 못했습니다. 죄송합니다...\n",
    "#2015104124 진우빈\n",
    "\n",
    "import queue\n",
    "\n",
    "class Node:\n",
    "    def __init__(self, level, weight, profit, include):\n",
    "        self.level = level\n",
    "        self.weight = weight\n",
    "        self.profit = profit\n",
    "        self.include = include\n",
    "        \n",
    "def kp_BFS():\n",
    "    global maxProfit\n",
    "    global bestset\n",
    "    global w, W\n",
    "    global p\n",
    "    q = queue.Queue()\n",
    "    \n",
    "    u = Node(0,0,0,0)\n",
    "    v = Node(0,0,0,0)\n",
    "    q.put(v)\n",
    "    while not q.empty():\n",
    "        x = q.get()\n",
    "        u.level = x.level + 1\n",
    "        u.weight = x.weight + w[u.level - 1]\n",
    "        u.profit = x.profit + p[u.level - 1]\n",
    "        \n",
    "        if u.weight <= W and u.profit > maxProfit:\n",
    "            maxProfit = u.profit\n",
    "        if compBound(u) > maxProfit:\n",
    "            q.put(u)\n",
    "            \n",
    "        u.weight = x.weight\n",
    "        u.profit = x.profit\n",
    "        if compBound(u) > maxProfit:\n",
    "            q.put(u)\n",
    "            \n",
    "def compBound(u):\n",
    "    global W, w\n",
    "    global N\n",
    "    global p\n",
    "    \n",
    "    if u.weight >= W:\n",
    "        return 0\n",
    "    \n",
    "    else:\n",
    "        result = u.profit\n",
    "        j = u.level + 1\n",
    "        totalweight = u.weight\n",
    "        while j < N and totalweight + w[j] <= W:\n",
    "            totalweight += w[j]\n",
    "            result += p[j]\n",
    "            j += 1\n",
    "            \n",
    "        k = j\n",
    "        if k < N:\n",
    "            result += (W - totalweight) * p[k] / w[k]\n",
    "            \n",
    "        return result\n",
    "        \n",
    "        \n",
    "\n",
    "        \n",
    "N = 4\n",
    "W = 16\n",
    "p = [40, 30, 50, 10]\n",
    "w = [2, 5, 10, 5]\n",
    "include = [0] * N\n",
    "maxProfit = 0\n",
    "bestset = [0] * N\n",
    "kp_BFS()\n",
    "print(bestset)"
   ]
  },
  {
   "cell_type": "code",
   "execution_count": 14,
   "metadata": {},
   "outputs": [
    {
     "name": "stdout",
     "output_type": "stream",
     "text": [
      "1\n",
      "hi\n"
     ]
    }
   ],
   "source": [
    "x = queue.Queue()\n",
    "x.put(1)\n",
    "a = x.get()\n",
    "print(a)\n",
    "if x.empty():\n",
    "    print(\"hi\")"
   ]
  },
  {
   "cell_type": "code",
   "execution_count": null,
   "metadata": {},
   "outputs": [],
   "source": []
  }
 ],
 "metadata": {
  "kernelspec": {
   "display_name": "Python 3",
   "language": "python",
   "name": "python3"
  },
  "language_info": {
   "codemirror_mode": {
    "name": "ipython",
    "version": 3
   },
   "file_extension": ".py",
   "mimetype": "text/x-python",
   "name": "python",
   "nbconvert_exporter": "python",
   "pygments_lexer": "ipython3",
   "version": "3.8.3"
  }
 },
 "nbformat": 4,
 "nbformat_minor": 4
}
