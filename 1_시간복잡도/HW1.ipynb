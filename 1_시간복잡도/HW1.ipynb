{
 "cells": [
  {
   "cell_type": "markdown",
   "metadata": {},
   "source": [
    "## Alg 1"
   ]
  },
  {
   "cell_type": "code",
   "execution_count": 5,
   "metadata": {},
   "outputs": [],
   "source": [
    "def alg1(array, target):\n",
    "    for i in range(1, len(array)+1):\n",
    "        sum = 0\n",
    "        for j in range(i):\n",
    "            sum += array[j]\n",
    "        target[i-1] = sum/i"
   ]
  },
  {
   "cell_type": "markdown",
   "metadata": {},
   "source": [
    "## Alg 2\n"
   ]
  },
  {
   "cell_type": "code",
   "execution_count": 10,
   "metadata": {},
   "outputs": [],
   "source": [
    "def alg2(array, target):\n",
    "    target[0] = array[0]/1\n",
    "    \n",
    "    for i in range(1, len(array)):\n",
    "        target[i] = (target[i-1] * i + array[i]) / (i+1)\n",
    "    "
   ]
  },
  {
   "cell_type": "markdown",
   "metadata": {},
   "source": [
    "## Q1"
   ]
  },
  {
   "cell_type": "code",
   "execution_count": 9,
   "metadata": {},
   "outputs": [
    {
     "name": "stdout",
     "output_type": "stream",
     "text": [
      "4.626142978668213 0.011729955673217773\n",
      "19.400001049041748 0.02614593505859375\n",
      "44.095558881759644 0.03707599639892578\n"
     ]
    }
   ],
   "source": [
    "import time \n",
    "import numpy as np\n",
    "import random \n",
    "\n",
    "N = [10000, 20000, 30000]\n",
    "\n",
    "def calc_time_alg1(num):\n",
    "    sTime = time.time()\n",
    "    A = [random.randint(1,9) for r in range(num)]\n",
    "    avg_alg = [0] * num\n",
    "\n",
    "    alg1(A, avg_alg)\n",
    "    eTime = time.time()\n",
    "    return eTime-sTime\n",
    "    \n",
    "\n",
    "def calc_time_alg2(num):\n",
    "    sTime = time.time()\n",
    "    A = [random.randint(1,9) for r in range(num)]\n",
    "    avg_alg = [0] * num\n",
    "\n",
    "    alg2(A, avg_alg)\n",
    "    eTime = time.time()\n",
    "    return eTime-sTime\n",
    "    \n",
    "for n in N:\n",
    "    print(calc_time_alg1(n), calc_time_alg2(n))"
   ]
  },
  {
   "cell_type": "code",
   "execution_count": 3,
   "metadata": {},
   "outputs": [
    {
     "name": "stdout",
     "output_type": "stream",
     "text": [
      "23\n"
     ]
    }
   ],
   "source": [
    "def crash_course(dltr):\n",
    "    result = 0\n",
    "    temp = 1\n",
    "    \n",
    "    for i in range(1,dltr):\n",
    "        temp = temp * i\n",
    "        for k in range(i):\n",
    "            result += temp\n",
    "    return result\n",
    "\n",
    "print(crash_course(4))"
   ]
  },
  {
   "cell_type": "code",
   "execution_count": null,
   "metadata": {},
   "outputs": [],
   "source": []
  }
 ],
 "metadata": {
  "kernelspec": {
   "display_name": "Python 3",
   "language": "python",
   "name": "python3"
  },
  "language_info": {
   "codemirror_mode": {
    "name": "ipython",
    "version": 3
   },
   "file_extension": ".py",
   "mimetype": "text/x-python",
   "name": "python",
   "nbconvert_exporter": "python",
   "pygments_lexer": "ipython3",
   "version": "3.8.3"
  }
 },
 "nbformat": 4,
 "nbformat_minor": 4
}
